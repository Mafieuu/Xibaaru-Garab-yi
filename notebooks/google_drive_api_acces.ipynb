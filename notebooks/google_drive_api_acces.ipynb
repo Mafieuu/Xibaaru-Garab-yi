{
 "cells": [
  {
   "cell_type": "markdown",
   "id": "efe5e50b-17ac-4e72-a39a-01bb327295b8",
   "metadata": {},
   "source": [
    "# Accés à l'API de Google Drive"
   ]
  },
  {
   "cell_type": "code",
   "execution_count": 8,
   "id": "e1d98854-c5e1-40c2-9334-c225e4a410c9",
   "metadata": {},
   "outputs": [],
   "source": [
    "# 1 Aller à https://console.cloud.google.com/ et créer un nouveau projet si inexistant\n",
    "# 2 Créer des identifiants selectionner app user et apres web app\n",
    "# 3 en sortie nommer ce fichier credentials.json et le placer dans le dossier notebooks\n"
   ]
  },
  {
   "cell_type": "code",
   "execution_count": 6,
   "id": "14475477-c159-40e1-b1f5-6334ca52cfda",
   "metadata": {},
   "outputs": [],
   "source": [
    "import os\n",
    "import io\n",
    "import pickle\n",
    "from googleapiclient.discovery import build\n",
    "from googleapiclient.http import MediaIoBaseDownload\n",
    "from google_auth_oauthlib.flow import InstalledAppFlow\n",
    "from google.auth.transport.requests import Request\n"
   ]
  },
  {
   "cell_type": "code",
   "execution_count": null,
   "id": "3721a027-d3e8-43ff-ab6d-02eeff725669",
   "metadata": {},
   "outputs": [],
   "source": [
    "\n",
    "# Lecture seul\n",
    "PERMISSIONS = ['https://www.googleapis.com/auth/drive.readonly']\n",
    "\n",
    "def se_connecter():\n",
    "    infos_connexion = None\n",
    "    # Le fichier token.pickle permet de save  les infos de connexion\n",
    "    if os.path.exists('token.pickle'):\n",
    "        with open('token.pickle', 'rb') as jeton:\n",
    "            infos_connexion = pickle.load(jeton)\n",
    "    if not infos_connexion or not infos_connexion.valid:\n",
    "        # Si elles sont juste expirées mais qu'on peut les rafraîchir\n",
    "        if infos_connexion and infos_connexion.expired and infos_connexion.refresh_token:\n",
    "            #print(\"Jeton expiré, on rafraîchit...\")\n",
    "            infos_connexion.refresh(Request())\n",
    "        else:\n",
    "            #print(\" on lance l'authentification...\")\n",
    "            flux = InstalledAppFlow.from_client_secrets_file('credentials.json', PERMISSIONS)\n",
    "            # Ça va ouvrir une page dans le navigateur pour que l'utilisateur autorise l'appli.\n",
    "            infos_connexion = flux.run_local_server(port=0)\n",
    "\n",
    "        with open('token.pickle', 'wb') as jeton:\n",
    "            pickle.dump(infos_connexion, jeton)\n",
    "            \n",
    "    service_drive = build('drive', 'v3', credentials=infos_connexion)\n",
    "    print(\"Connexion à Google Drive réussie \")\n",
    "    return service_drive\n",
    "\n",
    "def list_fils(service_drive, id_dossier):\n",
    "    \"\"\"\n",
    "    Récupère la liste des fichiers qui sont DANS le dossier spécifié par id_dossier.\n",
    "    Ne regarde pas dans les sous-dossiers.\n",
    "    \"\"\"\n",
    "    requete = f\"'{id_dossier}' in parents\"\n",
    "    try:\n",
    "\n",
    "        resultats = service_drive.files().list(q=requete, fields=\"files(id, name)\").execute()\n",
    "        # On récupère la liste des fichiers depuis la réponse.si ras, ça renvoie une liste vide [].\n",
    "        fichiers = resultats.get('files', [])\n",
    "\n",
    "        if not fichiers:\n",
    "            print(\"-> Aucun fichier trouvé dans ce dossier.\")\n",
    "        else:\n",
    "            print(f\"-> Trouvé {len(fichiers)} fichier(s).\")\n",
    "        return fichiers\n",
    "    except Exception as e:\n",
    "        print(f\" erreur en listant les fichiers : {e}\")\n",
    "        return [] \n",
    "\n",
    "def telecharger_fichier(service_drive, id_fichier, nom_fichier):\n",
    "    \"\"\"\n",
    "    Télécharge UN fichier depuis Google Drive en utilisant son ID.\n",
    "    Il sera sauvegardé sur l'ordinateur avec le nom 'nom_fichier'.\n",
    "    \"\"\"\n",
    "    try:\n",
    "        # On demande à Google Drive de nous donner le contenu du fichier (pas juste ses infos)\n",
    "        demande_telechargement = service_drive.files().get_media(fileId=id_fichier)\n",
    "\n",
    "        # On prépare un fichier sur notre ordinateur pour recevoir le contenu téléchargé.\n",
    "        # 'wb' veut dire qu'on écrit en mode binaire (important pour les fichiers non-texte)\n",
    "        fichier_local = io.FileIO(nom_fichier, 'wb')\n",
    "\n",
    "        # On crée un objet pour gérer le téléchargement (surtout utile pour les gros fichiers,\n",
    "        # ça télécharge par morceaux)\n",
    "        telechargeur = MediaIoBaseDownload(fichier_local, demande_telechargement)\n",
    "\n",
    "        termine = False\n",
    "        while not termine:\n",
    "            # On télécharge le prochain morceau\n",
    "            etat, termine = telechargeur.next_chunk()\n",
    "            if etat:\n",
    "                # On affiche la progression\n",
    "                print(f\"Téléchargement de {nom_fichier} : {int(etat.progress() * 100)}% terminé.\")\n",
    "\n",
    "        #  fermer le fichier sur l'ordi une fois le téléchargement fini.\n",
    "        fichier_local.close()\n",
    "        print(f\"Fichier '{nom_fichier}' téléchargé avec succès.\")\n",
    "\n",
    "    except Exception as e:\n",
    "        print(f\" impossible de télécharger {nom_fichier}. Erreur : {e}\")\n",
    "        # Si ça plante, on essaie de supprimer le fichier local potentiellement incomplet\n",
    "        if os.path.exists(nom_fichier):\n",
    "            try:\n",
    "                os.remove(nom_fichier)\n",
    "                print(f\"Fichier local incomplet '{nom_fichier}' supprimé.\")\n",
    "            except OSError as err_suppr:\n",
    "                print(f\"Impossible de supprimer le fichier local incomplet '{nom_fichier}': {err_suppr}\")"
   ]
  },
  {
   "cell_type": "code",
   "execution_count": null,
   "id": "cade5b1e-92c5-4ac2-9989-015f58573bce",
   "metadata": {},
   "outputs": [],
   "source": [
    "id_dossier_a_scanner = 'nom_du_dossier' \n",
    "service = se_connecter()\n",
    "alls_fils = list_fils(service, id_dossier_a_scanner)"
   ]
  },
  {
   "cell_type": "code",
   "execution_count": null,
   "id": "87654c0e-7baf-44f9-a2f3-e478b4cd0800",
   "metadata": {},
   "outputs": [],
   "source": [
    "for fichier in alls_fils:\n",
    "                print(f\"\\n--> Tentative de téléchargement de : {fichier['name']} (ID: {fichier['id']})\")\n",
    "                telecharger_fichier(service, fichier['id'], fichier['name'])\n",
    "            print(\"\\nTerminé ! Tous les fichiers ont été traités.\")"
   ]
  },
  {
   "cell_type": "code",
   "execution_count": null,
   "id": "c37d6061-3473-444c-b571-2b1eae8e1119",
   "metadata": {},
   "outputs": [],
   "source": []
  }
 ],
 "metadata": {
  "kernelspec": {
   "display_name": "Python (hackaton_ensae_env)",
   "language": "python",
   "name": "hackaton_ensae_env"
  },
  "language_info": {
   "codemirror_mode": {
    "name": "ipython",
    "version": 3
   },
   "file_extension": ".py",
   "mimetype": "text/x-python",
   "name": "python",
   "nbconvert_exporter": "python",
   "pygments_lexer": "ipython3",
   "version": "3.11.11"
  }
 },
 "nbformat": 4,
 "nbformat_minor": 5
}
