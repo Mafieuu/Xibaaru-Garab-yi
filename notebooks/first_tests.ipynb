{
 "cells": [
  {
   "cell_type": "code",
   "execution_count": 2,
   "id": "5cd8e105-98d3-4bf5-b88e-9a773b44eced",
   "metadata": {},
   "outputs": [],
   "source": [
    "# --------------------------------------------------------------\n",
    "#\n",
    "# L'objectif du present notebook est de tester le telechargement d'images de sentinel ainsi que quelques \n",
    "# algorithmes de machine learning ayant trait à la télédetection\n",
    "#\n",
    "# ----------------------------------------------------------------"
   ]
  },
  {
   "cell_type": "code",
   "execution_count": 16,
   "id": "0f29f7d3-7e04-4034-9b93-d2027a018a2e",
   "metadata": {},
   "outputs": [],
   "source": [
    "# l'api accessible depuis \"https://scihub.copernicus.eu/dhus\" n'est plus disponible"
   ]
  },
  {
   "cell_type": "code",
   "execution_count": 44,
   "id": "e4ba0e82-dde9-4003-a38b-7b132b244255",
   "metadata": {},
   "outputs": [
    {
     "name": "stdout",
     "output_type": "stream",
     "text": [
      "Requirement already satisfied: oauthlib in c:\\users\\hp\\anaconda3\\lib\\site-packages (3.2.2)\n",
      "Requirement already satisfied: requests_oauthlib in c:\\users\\hp\\anaconda3\\lib\\site-packages (2.0.0)\n",
      "Requirement already satisfied: oauthlib>=3.0.0 in c:\\users\\hp\\anaconda3\\lib\\site-packages (from requests_oauthlib) (3.2.2)\n",
      "Requirement already satisfied: requests>=2.0.0 in c:\\users\\hp\\appdata\\roaming\\python\\python312\\site-packages (from requests_oauthlib) (2.32.3)\n",
      "Requirement already satisfied: charset-normalizer<4,>=2 in c:\\users\\hp\\appdata\\roaming\\python\\python312\\site-packages (from requests>=2.0.0->requests_oauthlib) (3.4.0)\n",
      "Requirement already satisfied: idna<4,>=2.5 in c:\\users\\hp\\appdata\\roaming\\python\\python312\\site-packages (from requests>=2.0.0->requests_oauthlib) (3.10)\n",
      "Requirement already satisfied: urllib3<3,>=1.21.1 in c:\\users\\hp\\appdata\\roaming\\python\\python312\\site-packages (from requests>=2.0.0->requests_oauthlib) (2.2.3)\n",
      "Requirement already satisfied: certifi>=2017.4.17 in c:\\users\\hp\\appdata\\roaming\\python\\python312\\site-packages (from requests>=2.0.0->requests_oauthlib) (2024.8.30)\n",
      "Collecting sentinelhub\n",
      "  Downloading sentinelhub-3.11.1-py3-none-any.whl.metadata (10 kB)\n",
      "Collecting aenum>=2.1.4 (from sentinelhub)\n",
      "  Using cached aenum-3.1.15-py3-none-any.whl.metadata (3.7 kB)\n",
      "Requirement already satisfied: click in c:\\users\\hp\\appdata\\roaming\\python\\python312\\site-packages (from sentinelhub) (8.1.8)\n",
      "Collecting dataclasses-json (from sentinelhub)\n",
      "  Downloading dataclasses_json-0.6.7-py3-none-any.whl.metadata (25 kB)\n",
      "Requirement already satisfied: numpy in c:\\users\\hp\\appdata\\roaming\\python\\python312\\site-packages (from sentinelhub) (2.1.3)\n",
      "Requirement already satisfied: oauthlib in c:\\users\\hp\\anaconda3\\lib\\site-packages (from sentinelhub) (3.2.2)\n",
      "Requirement already satisfied: pillow>=9.2.0 in c:\\users\\hp\\appdata\\roaming\\python\\python312\\site-packages (from sentinelhub) (11.0.0)\n",
      "Requirement already satisfied: pyproj>=2.2.0 in c:\\users\\hp\\appdata\\roaming\\python\\python312\\site-packages (from sentinelhub) (3.7.0)\n",
      "Requirement already satisfied: python-dateutil in c:\\users\\hp\\appdata\\roaming\\python\\python312\\site-packages (from sentinelhub) (2.9.0.post0)\n",
      "Requirement already satisfied: requests-oauthlib>=1.0.0 in c:\\users\\hp\\anaconda3\\lib\\site-packages (from sentinelhub) (2.0.0)\n",
      "Requirement already satisfied: requests>=2.27.0 in c:\\users\\hp\\appdata\\roaming\\python\\python312\\site-packages (from sentinelhub) (2.32.3)\n",
      "Requirement already satisfied: shapely in c:\\users\\hp\\appdata\\roaming\\python\\python312\\site-packages (from sentinelhub) (2.0.6)\n",
      "Requirement already satisfied: tifffile>=2020.9.30 in c:\\users\\hp\\anaconda3\\lib\\site-packages (from sentinelhub) (2023.4.12)\n",
      "Requirement already satisfied: tomli in c:\\users\\hp\\anaconda3\\lib\\site-packages (from sentinelhub) (2.0.1)\n",
      "Collecting tomli-w (from sentinelhub)\n",
      "  Downloading tomli_w-1.2.0-py3-none-any.whl.metadata (5.7 kB)\n",
      "Requirement already satisfied: tqdm in c:\\users\\hp\\anaconda3\\lib\\site-packages (from sentinelhub) (4.66.5)\n",
      "Requirement already satisfied: typing-extensions>=4.5.0 in c:\\users\\hp\\appdata\\roaming\\python\\python312\\site-packages (from sentinelhub) (4.12.2)\n",
      "Collecting utm (from sentinelhub)\n",
      "  Downloading utm-0.8.1-py3-none-any.whl.metadata (5.2 kB)\n",
      "Requirement already satisfied: certifi in c:\\users\\hp\\appdata\\roaming\\python\\python312\\site-packages (from pyproj>=2.2.0->sentinelhub) (2024.8.30)\n",
      "Requirement already satisfied: charset-normalizer<4,>=2 in c:\\users\\hp\\appdata\\roaming\\python\\python312\\site-packages (from requests>=2.27.0->sentinelhub) (3.4.0)\n",
      "Requirement already satisfied: idna<4,>=2.5 in c:\\users\\hp\\appdata\\roaming\\python\\python312\\site-packages (from requests>=2.27.0->sentinelhub) (3.10)\n",
      "Requirement already satisfied: urllib3<3,>=1.21.1 in c:\\users\\hp\\appdata\\roaming\\python\\python312\\site-packages (from requests>=2.27.0->sentinelhub) (2.2.3)\n",
      "Requirement already satisfied: colorama in c:\\users\\hp\\appdata\\roaming\\python\\python312\\site-packages (from click->sentinelhub) (0.4.6)\n",
      "Collecting marshmallow<4.0.0,>=3.18.0 (from dataclasses-json->sentinelhub)\n",
      "  Downloading marshmallow-3.26.1-py3-none-any.whl.metadata (7.3 kB)\n",
      "Collecting typing-inspect<1,>=0.4.0 (from dataclasses-json->sentinelhub)\n",
      "  Downloading typing_inspect-0.9.0-py3-none-any.whl.metadata (1.5 kB)\n",
      "Requirement already satisfied: six>=1.5 in c:\\users\\hp\\appdata\\roaming\\python\\python312\\site-packages (from python-dateutil->sentinelhub) (1.16.0)\n",
      "Requirement already satisfied: packaging>=17.0 in c:\\users\\hp\\appdata\\roaming\\python\\python312\\site-packages (from marshmallow<4.0.0,>=3.18.0->dataclasses-json->sentinelhub) (24.2)\n",
      "Requirement already satisfied: mypy-extensions>=0.3.0 in c:\\users\\hp\\anaconda3\\lib\\site-packages (from typing-inspect<1,>=0.4.0->dataclasses-json->sentinelhub) (1.0.0)\n",
      "Downloading sentinelhub-3.11.1-py3-none-any.whl (249 kB)\n",
      "Using cached aenum-3.1.15-py3-none-any.whl (137 kB)\n",
      "Downloading dataclasses_json-0.6.7-py3-none-any.whl (28 kB)\n",
      "Downloading tomli_w-1.2.0-py3-none-any.whl (6.7 kB)\n",
      "Downloading utm-0.8.1-py3-none-any.whl (8.6 kB)\n",
      "Downloading marshmallow-3.26.1-py3-none-any.whl (50 kB)\n",
      "Downloading typing_inspect-0.9.0-py3-none-any.whl (8.8 kB)\n",
      "Installing collected packages: aenum, utm, typing-inspect, tomli-w, marshmallow, dataclasses-json, sentinelhub\n",
      "Successfully installed aenum-3.1.15 dataclasses-json-0.6.7 marshmallow-3.26.1 sentinelhub-3.11.1 tomli-w-1.2.0 typing-inspect-0.9.0 utm-0.8.1\n"
     ]
    }
   ],
   "source": [
    "# Installer les packages manquantes (si necessaire)\n",
    "! pip install oauthlib;\n",
    "! pip install requests_oauthlib;\n",
    "! pip install sentinelhub;"
   ]
  },
  {
   "cell_type": "code",
   "execution_count": 1,
   "id": "12e965b6-9bc7-40c8-bd36-71464e2da46d",
   "metadata": {},
   "outputs": [],
   "source": [
    "import os\n",
    "from dotenv import load_dotenv\n",
    "from oauthlib.oauth2 import BackendApplicationClient\n",
    "from requests_oauthlib import OAuth2Session\n",
    "from sentinelhub import SHConfig\n",
    "\n",
    "load_dotenv()\n",
    "Client_ID = os.getenv(\"Client_ID\")\n",
    "Client_secret = os.getenv(\"Client_secret\")"
   ]
  },
  {
   "cell_type": "code",
   "execution_count": 3,
   "id": "4ce9e6c3-0b8a-472e-8687-5c03fbdc5870",
   "metadata": {},
   "outputs": [
    {
     "data": {
      "text/plain": [
       "'0ae96efb-7a33-4d33-bbf3-34ea59be0b64'"
      ]
     },
     "execution_count": 3,
     "metadata": {},
     "output_type": "execute_result"
    }
   ],
   "source": [
    "Client_ID"
   ]
  },
  {
   "cell_type": "markdown",
   "id": "c4fad68a-bf08-49f0-8c9d-fd209d5bfe91",
   "metadata": {},
   "source": [
    "# Authentification"
   ]
  },
  {
   "cell_type": "code",
   "execution_count": 68,
   "id": "d89317a0-451a-49a5-9824-05bd27e05c42",
   "metadata": {},
   "outputs": [],
   "source": [
    "# Ne pas executer la partie authentification plusieurs fois afin d'economiser de la ressource"
   ]
  },
  {
   "cell_type": "code",
   "execution_count": 66,
   "id": "9b4e795c-0f13-4777-8344-4334b2f6ab63",
   "metadata": {},
   "outputs": [
    {
     "name": "stdin",
     "output_type": "stream",
     "text": [
      "0ae96efb-7a33-4d33-bbf3-34ea59be0b64 ········\n",
      "DWM8sTpeZHEGyJrlFciQLWQIGk7AXUl8 ········\n"
     ]
    }
   ],
   "source": [
    "# Se référer à deforestation_monitoring_with_xarray.ipynb present dans jupyterhub.dataspace.copernicus.eu\n",
    "your_profil_name=\"kenpachi_sn\" # se trouve dans https://apps.sentinel-hub.com/dashboard/#/account/settings\n",
    "\n",
    "# Only run this cell if you have not created a configuration.\n",
    "\n",
    "config = SHConfig()\n",
    "config.sh_client_id = getpass.getpass(Client_ID)\n",
    "config.sh_client_secret = getpass.getpass(Client_secret)\n",
    "config.sh_token_url = \"https://identity.dataspace.copernicus.eu/auth/realms/CDSE/protocol/openid-connect/token\"\n",
    "config.sh_base_url = \"https://sh.dataspace.copernicus.eu\"\n",
    "# config.save(\"cdse\")  ???"
   ]
  },
  {
   "cell_type": "code",
   "execution_count": 5,
   "id": "a8494427-3de1-4c23-9f6c-15f0148db715",
   "metadata": {},
   "outputs": [],
   "source": [
    "# Si vous avez deja configurer votre profil :\n",
    "config = SHConfig() "
   ]
  },
  {
   "cell_type": "markdown",
   "id": "eaacf372-2b13-4a30-bad5-1616112fc6fc",
   "metadata": {},
   "source": [
    "# Définition de la zone d'intérêt"
   ]
  },
  {
   "cell_type": "code",
   "execution_count": 7,
   "id": "703cf350-8157-4f88-afd7-9694c0ffba5d",
   "metadata": {},
   "outputs": [],
   "source": [
    "\n",
    "# https://documentation.dataspace.copernicus.eu/notebook-samples/sentinelhub/data_download_process_request.html\n",
    "# http://bboxfinder.com/ # pour selectionner la zone"
   ]
  },
  {
   "cell_type": "code",
   "execution_count": null,
   "id": "02b2bab0-1386-41a1-9601-f237e54b72d8",
   "metadata": {},
   "outputs": [],
   "source": []
  }
 ],
 "metadata": {
  "kernelspec": {
   "display_name": "Python [conda env:base] *",
   "language": "python",
   "name": "conda-base-py"
  },
  "language_info": {
   "codemirror_mode": {
    "name": "ipython",
    "version": 3
   },
   "file_extension": ".py",
   "mimetype": "text/x-python",
   "name": "python",
   "nbconvert_exporter": "python",
   "pygments_lexer": "ipython3",
   "version": "3.12.7"
  }
 },
 "nbformat": 4,
 "nbformat_minor": 5
}
